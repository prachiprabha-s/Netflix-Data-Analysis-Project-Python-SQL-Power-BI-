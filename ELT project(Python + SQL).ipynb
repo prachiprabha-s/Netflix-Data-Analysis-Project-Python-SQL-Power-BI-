{
 "cells": [
  {
   "cell_type": "code",
   "execution_count": 2,
   "id": "f24e3e48-946d-49b7-9c6d-4880d0858afb",
   "metadata": {},
   "outputs": [],
   "source": [
    "import pandas as pd \n",
    "file_path = r'C:\\Users\\prach\\Downloads\\netflix_titles.csv.zip'\n",
    "df = pd.read_csv(file_path)"
   ]
  },
  {
   "cell_type": "code",
   "execution_count": 45,
   "id": "2e8a0c86-d381-4ebd-9a6b-64c4e301d1ad",
   "metadata": {},
   "outputs": [],
   "source": [
    "import sqlalchemy as sal\n",
    "engine = sal.create_engine('mssql://HP7683905144P\\SQLEXPRESS/tempdb?driver=ODBC+DRIVER+17+FOR+SQL+SERVER')\n",
    "conn=engine.connect()"
   ]
  },
  {
   "cell_type": "code",
   "execution_count": 46,
   "id": "4e3019e3-6f4b-4dc3-93db-a4c38ee5fd31",
   "metadata": {},
   "outputs": [],
   "source": [
    "df.to_sql('netflix_new', con=conn , index=False, if_exists = 'replace')\n",
    "conn.close()"
   ]
  },
  {
   "cell_type": "code",
   "execution_count": 47,
   "id": "650b5206-c48a-452f-b9eb-484c4c7fb245",
   "metadata": {},
   "outputs": [
    {
     "data": {
      "text/html": [
       "<div>\n",
       "<style scoped>\n",
       "    .dataframe tbody tr th:only-of-type {\n",
       "        vertical-align: middle;\n",
       "    }\n",
       "\n",
       "    .dataframe tbody tr th {\n",
       "        vertical-align: top;\n",
       "    }\n",
       "\n",
       "    .dataframe thead th {\n",
       "        text-align: right;\n",
       "    }\n",
       "</style>\n",
       "<table border=\"1\" class=\"dataframe\">\n",
       "  <thead>\n",
       "    <tr style=\"text-align: right;\">\n",
       "      <th></th>\n",
       "      <th>show_id</th>\n",
       "      <th>type</th>\n",
       "      <th>title</th>\n",
       "      <th>director</th>\n",
       "      <th>cast</th>\n",
       "      <th>country</th>\n",
       "      <th>date_added</th>\n",
       "      <th>release_year</th>\n",
       "      <th>rating</th>\n",
       "      <th>duration</th>\n",
       "      <th>listed_in</th>\n",
       "      <th>description</th>\n",
       "    </tr>\n",
       "  </thead>\n",
       "  <tbody>\n",
       "    <tr>\n",
       "      <th>4667</th>\n",
       "      <td>s4668</td>\n",
       "      <td>Movie</td>\n",
       "      <td>​​Kuch Bheege Alfaaz</td>\n",
       "      <td>Onir</td>\n",
       "      <td>Geetanjali Thapa, Zain Khan Durrani, Shray Rai...</td>\n",
       "      <td>India</td>\n",
       "      <td>September 1, 2018</td>\n",
       "      <td>2018</td>\n",
       "      <td>TV-14</td>\n",
       "      <td>110 min</td>\n",
       "      <td>Dramas, Independent Movies, International Movies</td>\n",
       "      <td>After accidentally connecting over the Interne...</td>\n",
       "    </tr>\n",
       "  </tbody>\n",
       "</table>\n",
       "</div>"
      ],
      "text/plain": [
       "     show_id   type                 title director  \\\n",
       "4667   s4668  Movie  ​​Kuch Bheege Alfaaz     Onir   \n",
       "\n",
       "                                                   cast country  \\\n",
       "4667  Geetanjali Thapa, Zain Khan Durrani, Shray Rai...   India   \n",
       "\n",
       "             date_added release_year rating duration  \\\n",
       "4667  September 1, 2018         2018  TV-14  110 min   \n",
       "\n",
       "                                             listed_in  \\\n",
       "4667  Dramas, Independent Movies, International Movies   \n",
       "\n",
       "                                            description  \n",
       "4667  After accidentally connecting over the Interne...  "
      ]
     },
     "execution_count": 47,
     "metadata": {},
     "output_type": "execute_result"
    }
   ],
   "source": [
    "df[df.show_id == 's4668']"
   ]
  },
  {
   "cell_type": "code",
   "execution_count": 39,
   "id": "ab147bf3-5ca2-40a2-a83f-509126c91bf0",
   "metadata": {},
   "outputs": [
    {
     "data": {
      "text/plain": [
       "208.0"
      ]
     },
     "execution_count": 39,
     "metadata": {},
     "output_type": "execute_result"
    }
   ],
   "source": [
    "max(df.director.str.len())"
   ]
  },
  {
   "cell_type": "code",
   "execution_count": 38,
   "id": "461b1781-10f0-4c32-b993-a7ecb648d270",
   "metadata": {},
   "outputs": [
    {
     "name": "stdout",
     "output_type": "stream",
     "text": [
      "object\n",
      "object\n"
     ]
    }
   ],
   "source": [
    "print(df['release_year'].dtype)\n",
    "print(df['country'].dtype)"
   ]
  },
  {
   "cell_type": "code",
   "execution_count": 36,
   "id": "b5195669-0f26-4526-b457-ca4862e92f67",
   "metadata": {},
   "outputs": [
    {
     "name": "stdout",
     "output_type": "stream",
     "text": [
      "4\n"
     ]
    }
   ],
   "source": [
    "df['release_year'] = df['release_year'].astype(str)\n",
    "max_length = df['release_year'].str.len().max()\n",
    "print(max_length)"
   ]
  },
  {
   "cell_type": "code",
   "execution_count": 50,
   "id": "56ee2950-48a8-4d96-8248-b330cf9074af",
   "metadata": {},
   "outputs": [
    {
     "data": {
      "text/plain": [
       "show_id            0\n",
       "type               0\n",
       "title              0\n",
       "director        2634\n",
       "cast             825\n",
       "country          831\n",
       "date_added        10\n",
       "release_year       0\n",
       "rating             4\n",
       "duration           3\n",
       "listed_in          0\n",
       "description        0\n",
       "dtype: int64"
      ]
     },
     "execution_count": 50,
     "metadata": {},
     "output_type": "execute_result"
    }
   ],
   "source": [
    "df.isna().sum()"
   ]
  },
  {
   "cell_type": "code",
   "execution_count": null,
   "id": "56765c48-d720-4bf8-b030-187c9c2e81da",
   "metadata": {},
   "outputs": [],
   "source": []
  }
 ],
 "metadata": {
  "kernelspec": {
   "display_name": "Python 3 (ipykernel)",
   "language": "python",
   "name": "python3"
  },
  "language_info": {
   "codemirror_mode": {
    "name": "ipython",
    "version": 3
   },
   "file_extension": ".py",
   "mimetype": "text/x-python",
   "name": "python",
   "nbconvert_exporter": "python",
   "pygments_lexer": "ipython3",
   "version": "3.11.7"
  }
 },
 "nbformat": 4,
 "nbformat_minor": 5
}
